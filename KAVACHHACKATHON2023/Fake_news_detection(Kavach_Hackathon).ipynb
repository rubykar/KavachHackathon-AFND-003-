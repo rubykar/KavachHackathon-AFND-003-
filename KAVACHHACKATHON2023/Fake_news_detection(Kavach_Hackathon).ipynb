{
  "cells": [
    {
      "attachments": {},
      "cell_type": "markdown",
      "metadata": {
        "id": "pG8HMC92Ffox"
      },
      "source": [
        "## **Fake news detection ML model**\n"
      ]
    },
    {
      "cell_type": "code",
      "execution_count": 3,
      "metadata": {
        "colab": {
          "base_uri": "https://localhost:8080/"
        },
        "id": "QbkX8OmpFu9D",
        "outputId": "1314fb2b-3790-49cd-9494-9bf56236efad"
      },
      "outputs": [],
      "source": [
        "# importing the necessary packages\n",
        "import pandas as pd\n",
        "import matplotlib.pyplot as pt\n",
        "import numpy as np\n",
        "import re\n",
        "import nltk\n",
        "from nltk.corpus import stopwords\n",
        "from wordcloud import WordCloud, STOPWORDS\n",
        "import spacy\n"
      ]
    },
    {
      "attachments": {},
      "cell_type": "markdown",
      "metadata": {
        "id": "iXJ6S8OtGbvs"
      },
      "source": [
        "Reading the dataset\n"
      ]
    },
    {
      "cell_type": "code",
      "execution_count": 4,
      "metadata": {
        "colab": {
          "base_uri": "https://localhost:8080/",
          "height": 1000
        },
        "id": "p_1CCsMHGZGm",
        "outputId": "1a2de815-e3fc-44d5-c22a-411ae6cdc28c"
      },
      "outputs": [
        {
          "data": {
            "text/html": [
              "<div>\n",
              "<style scoped>\n",
              "    .dataframe tbody tr th:only-of-type {\n",
              "        vertical-align: middle;\n",
              "    }\n",
              "\n",
              "    .dataframe tbody tr th {\n",
              "        vertical-align: top;\n",
              "    }\n",
              "\n",
              "    .dataframe thead th {\n",
              "        text-align: right;\n",
              "    }\n",
              "</style>\n",
              "<table border=\"1\" class=\"dataframe\">\n",
              "  <thead>\n",
              "    <tr style=\"text-align: right;\">\n",
              "      <th></th>\n",
              "      <th>id</th>\n",
              "      <th>Statement</th>\n",
              "      <th>Image</th>\n",
              "      <th>Web</th>\n",
              "      <th>Category</th>\n",
              "      <th>Date</th>\n",
              "      <th>Label</th>\n",
              "    </tr>\n",
              "  </thead>\n",
              "  <tbody>\n",
              "    <tr>\n",
              "      <th>0</th>\n",
              "      <td>2</td>\n",
              "      <td>WHO praises India's Aarogya Setu app, says it ...</td>\n",
              "      <td>https://cdn.dnaindia.com/sites/default/files/s...</td>\n",
              "      <td>DNAINDIA</td>\n",
              "      <td>COVID-19</td>\n",
              "      <td>Oct-20</td>\n",
              "      <td>TRUE</td>\n",
              "    </tr>\n",
              "    <tr>\n",
              "      <th>1</th>\n",
              "      <td>3</td>\n",
              "      <td>In Delhi, Deputy US Secretary of State Stephen...</td>\n",
              "      <td>https://cdn.dnaindia.com/sites/default/files/s...</td>\n",
              "      <td>DNAINDIA</td>\n",
              "      <td>VIOLENCE</td>\n",
              "      <td>Oct-20</td>\n",
              "      <td>TRUE</td>\n",
              "    </tr>\n",
              "    <tr>\n",
              "      <th>2</th>\n",
              "      <td>4</td>\n",
              "      <td>LAC tensions: China's strategy behind delibera...</td>\n",
              "      <td>https://cdn.dnaindia.com/sites/default/files/s...</td>\n",
              "      <td>DNAINDIA</td>\n",
              "      <td>TERROR</td>\n",
              "      <td>Oct-20</td>\n",
              "      <td>TRUE</td>\n",
              "    </tr>\n",
              "    <tr>\n",
              "      <th>3</th>\n",
              "      <td>5</td>\n",
              "      <td>India has signed 250 documents on Space cooper...</td>\n",
              "      <td>https://cdn.dnaindia.com/sites/default/files/s...</td>\n",
              "      <td>DNAINDIA</td>\n",
              "      <td>COVID-19</td>\n",
              "      <td>Oct-20</td>\n",
              "      <td>TRUE</td>\n",
              "    </tr>\n",
              "    <tr>\n",
              "      <th>4</th>\n",
              "      <td>6</td>\n",
              "      <td>Tamil Nadu chief minister's mother passes away...</td>\n",
              "      <td>https://cdn.dnaindia.com/sites/default/files/s...</td>\n",
              "      <td>DNAINDIA</td>\n",
              "      <td>ELECTION</td>\n",
              "      <td>Oct-20</td>\n",
              "      <td>TRUE</td>\n",
              "    </tr>\n",
              "    <tr>\n",
              "      <th>...</th>\n",
              "      <td>...</td>\n",
              "      <td>...</td>\n",
              "      <td>...</td>\n",
              "      <td>...</td>\n",
              "      <td>...</td>\n",
              "      <td>...</td>\n",
              "      <td>...</td>\n",
              "    </tr>\n",
              "    <tr>\n",
              "      <th>56709</th>\n",
              "      <td>56711</td>\n",
              "      <td>Fact Check: This is not Bruce Lee playing ping...</td>\n",
              "      <td>https://akm-img-a-in.tosshub.com/indiatoday/im...</td>\n",
              "      <td>INDIATODAY</td>\n",
              "      <td>MISLEADING</td>\n",
              "      <td>11-2019</td>\n",
              "      <td>Fake</td>\n",
              "    </tr>\n",
              "    <tr>\n",
              "      <th>56710</th>\n",
              "      <td>56712</td>\n",
              "      <td>Fact Check: Did Japan construct this bridge in...</td>\n",
              "      <td>https://akm-img-a-in.tosshub.com/indiatoday/im...</td>\n",
              "      <td>INDIATODAY</td>\n",
              "      <td>COVID-19</td>\n",
              "      <td>10-2019</td>\n",
              "      <td>Fake</td>\n",
              "    </tr>\n",
              "    <tr>\n",
              "      <th>56711</th>\n",
              "      <td>56713</td>\n",
              "      <td>Fact Check: Viral video of Mexico earthquake i...</td>\n",
              "      <td>https://akm-img-a-in.tosshub.com/indiatoday/im...</td>\n",
              "      <td>INDIATODAY</td>\n",
              "      <td>MISLEADING</td>\n",
              "      <td>10-2019</td>\n",
              "      <td>Fake</td>\n",
              "    </tr>\n",
              "    <tr>\n",
              "      <th>56712</th>\n",
              "      <td>56714</td>\n",
              "      <td>Fact Check: Ballet performance by Chinese coup...</td>\n",
              "      <td>https://akm-img-a-in.tosshub.com/indiatoday/im...</td>\n",
              "      <td>INDIATODAY</td>\n",
              "      <td>COVID-19</td>\n",
              "      <td>9-2019</td>\n",
              "      <td>Fake</td>\n",
              "    </tr>\n",
              "    <tr>\n",
              "      <th>56713</th>\n",
              "      <td>56715</td>\n",
              "      <td>Fact Check: Is this little boy crossing into J...</td>\n",
              "      <td>https://akm-img-a-in.tosshub.com/indiatoday/im...</td>\n",
              "      <td>INDIATODAY</td>\n",
              "      <td>MISLEADING</td>\n",
              "      <td>9-2019</td>\n",
              "      <td>Fake</td>\n",
              "    </tr>\n",
              "  </tbody>\n",
              "</table>\n",
              "<p>56714 rows × 7 columns</p>\n",
              "</div>"
            ],
            "text/plain": [
              "          id                                          Statement  \\\n",
              "0          2  WHO praises India's Aarogya Setu app, says it ...   \n",
              "1          3  In Delhi, Deputy US Secretary of State Stephen...   \n",
              "2          4  LAC tensions: China's strategy behind delibera...   \n",
              "3          5  India has signed 250 documents on Space cooper...   \n",
              "4          6  Tamil Nadu chief minister's mother passes away...   \n",
              "...      ...                                                ...   \n",
              "56709  56711  Fact Check: This is not Bruce Lee playing ping...   \n",
              "56710  56712  Fact Check: Did Japan construct this bridge in...   \n",
              "56711  56713  Fact Check: Viral video of Mexico earthquake i...   \n",
              "56712  56714  Fact Check: Ballet performance by Chinese coup...   \n",
              "56713  56715  Fact Check: Is this little boy crossing into J...   \n",
              "\n",
              "                                                   Image         Web  \\\n",
              "0      https://cdn.dnaindia.com/sites/default/files/s...    DNAINDIA   \n",
              "1      https://cdn.dnaindia.com/sites/default/files/s...    DNAINDIA   \n",
              "2      https://cdn.dnaindia.com/sites/default/files/s...    DNAINDIA   \n",
              "3      https://cdn.dnaindia.com/sites/default/files/s...    DNAINDIA   \n",
              "4      https://cdn.dnaindia.com/sites/default/files/s...    DNAINDIA   \n",
              "...                                                  ...         ...   \n",
              "56709  https://akm-img-a-in.tosshub.com/indiatoday/im...  INDIATODAY   \n",
              "56710  https://akm-img-a-in.tosshub.com/indiatoday/im...  INDIATODAY   \n",
              "56711  https://akm-img-a-in.tosshub.com/indiatoday/im...  INDIATODAY   \n",
              "56712  https://akm-img-a-in.tosshub.com/indiatoday/im...  INDIATODAY   \n",
              "56713  https://akm-img-a-in.tosshub.com/indiatoday/im...  INDIATODAY   \n",
              "\n",
              "         Category     Date Label  \n",
              "0        COVID-19   Oct-20  TRUE  \n",
              "1        VIOLENCE   Oct-20  TRUE  \n",
              "2          TERROR   Oct-20  TRUE  \n",
              "3        COVID-19   Oct-20  TRUE  \n",
              "4        ELECTION   Oct-20  TRUE  \n",
              "...           ...      ...   ...  \n",
              "56709  MISLEADING  11-2019  Fake  \n",
              "56710    COVID-19  10-2019  Fake  \n",
              "56711  MISLEADING  10-2019  Fake  \n",
              "56712    COVID-19   9-2019  Fake  \n",
              "56713  MISLEADING   9-2019  Fake  \n",
              "\n",
              "[56714 rows x 7 columns]"
            ]
          },
          "execution_count": 4,
          "metadata": {},
          "output_type": "execute_result"
        }
      ],
      "source": [
        "data = pd.read_csv('IFND.csv', encoding=\"ISO-8859-1\")\n",
        "data\n"
      ]
    },
    {
      "cell_type": "code",
      "execution_count": 5,
      "metadata": {
        "colab": {
          "base_uri": "https://localhost:8080/"
        },
        "id": "m-xxEkiRL9kq",
        "outputId": "4ac56ce5-d208-475e-9d36-9428010bbe2e"
      },
      "outputs": [
        {
          "data": {
            "text/plain": [
              "(56714, 7)"
            ]
          },
          "execution_count": 5,
          "metadata": {},
          "output_type": "execute_result"
        }
      ],
      "source": [
        "data.shape\n"
      ]
    },
    {
      "cell_type": "code",
      "execution_count": 6,
      "metadata": {
        "colab": {
          "base_uri": "https://localhost:8080/"
        },
        "id": "xOtomKAWL-4l",
        "outputId": "6dfd5045-0d9b-4b61-c6bb-3048f3e991b0"
      },
      "outputs": [
        {
          "data": {
            "text/plain": [
              "id               0\n",
              "Statement        0\n",
              "Image            0\n",
              "Web              0\n",
              "Category         0\n",
              "Date         11321\n",
              "Label            0\n",
              "dtype: int64"
            ]
          },
          "execution_count": 6,
          "metadata": {},
          "output_type": "execute_result"
        }
      ],
      "source": [
        "data.isnull().sum()\n"
      ]
    },
    {
      "cell_type": "code",
      "execution_count": 7,
      "metadata": {
        "id": "JvOWbX9iMcf5"
      },
      "outputs": [],
      "source": [
        "data = data.drop(columns=['id', 'Image', 'Date'])\n"
      ]
    },
    {
      "cell_type": "code",
      "execution_count": 8,
      "metadata": {
        "colab": {
          "base_uri": "https://localhost:8080/",
          "height": 424
        },
        "id": "nlBXv7PrMnia",
        "outputId": "a53e1eb1-66dc-417e-d200-1436bba5be82"
      },
      "outputs": [
        {
          "data": {
            "text/html": [
              "<div>\n",
              "<style scoped>\n",
              "    .dataframe tbody tr th:only-of-type {\n",
              "        vertical-align: middle;\n",
              "    }\n",
              "\n",
              "    .dataframe tbody tr th {\n",
              "        vertical-align: top;\n",
              "    }\n",
              "\n",
              "    .dataframe thead th {\n",
              "        text-align: right;\n",
              "    }\n",
              "</style>\n",
              "<table border=\"1\" class=\"dataframe\">\n",
              "  <thead>\n",
              "    <tr style=\"text-align: right;\">\n",
              "      <th></th>\n",
              "      <th>Statement</th>\n",
              "      <th>Web</th>\n",
              "      <th>Category</th>\n",
              "      <th>Label</th>\n",
              "    </tr>\n",
              "  </thead>\n",
              "  <tbody>\n",
              "    <tr>\n",
              "      <th>0</th>\n",
              "      <td>WHO praises India's Aarogya Setu app, says it ...</td>\n",
              "      <td>DNAINDIA</td>\n",
              "      <td>COVID-19</td>\n",
              "      <td>TRUE</td>\n",
              "    </tr>\n",
              "    <tr>\n",
              "      <th>1</th>\n",
              "      <td>In Delhi, Deputy US Secretary of State Stephen...</td>\n",
              "      <td>DNAINDIA</td>\n",
              "      <td>VIOLENCE</td>\n",
              "      <td>TRUE</td>\n",
              "    </tr>\n",
              "    <tr>\n",
              "      <th>2</th>\n",
              "      <td>LAC tensions: China's strategy behind delibera...</td>\n",
              "      <td>DNAINDIA</td>\n",
              "      <td>TERROR</td>\n",
              "      <td>TRUE</td>\n",
              "    </tr>\n",
              "    <tr>\n",
              "      <th>3</th>\n",
              "      <td>India has signed 250 documents on Space cooper...</td>\n",
              "      <td>DNAINDIA</td>\n",
              "      <td>COVID-19</td>\n",
              "      <td>TRUE</td>\n",
              "    </tr>\n",
              "    <tr>\n",
              "      <th>4</th>\n",
              "      <td>Tamil Nadu chief minister's mother passes away...</td>\n",
              "      <td>DNAINDIA</td>\n",
              "      <td>ELECTION</td>\n",
              "      <td>TRUE</td>\n",
              "    </tr>\n",
              "    <tr>\n",
              "      <th>...</th>\n",
              "      <td>...</td>\n",
              "      <td>...</td>\n",
              "      <td>...</td>\n",
              "      <td>...</td>\n",
              "    </tr>\n",
              "    <tr>\n",
              "      <th>56709</th>\n",
              "      <td>Fact Check: This is not Bruce Lee playing ping...</td>\n",
              "      <td>INDIATODAY</td>\n",
              "      <td>MISLEADING</td>\n",
              "      <td>Fake</td>\n",
              "    </tr>\n",
              "    <tr>\n",
              "      <th>56710</th>\n",
              "      <td>Fact Check: Did Japan construct this bridge in...</td>\n",
              "      <td>INDIATODAY</td>\n",
              "      <td>COVID-19</td>\n",
              "      <td>Fake</td>\n",
              "    </tr>\n",
              "    <tr>\n",
              "      <th>56711</th>\n",
              "      <td>Fact Check: Viral video of Mexico earthquake i...</td>\n",
              "      <td>INDIATODAY</td>\n",
              "      <td>MISLEADING</td>\n",
              "      <td>Fake</td>\n",
              "    </tr>\n",
              "    <tr>\n",
              "      <th>56712</th>\n",
              "      <td>Fact Check: Ballet performance by Chinese coup...</td>\n",
              "      <td>INDIATODAY</td>\n",
              "      <td>COVID-19</td>\n",
              "      <td>Fake</td>\n",
              "    </tr>\n",
              "    <tr>\n",
              "      <th>56713</th>\n",
              "      <td>Fact Check: Is this little boy crossing into J...</td>\n",
              "      <td>INDIATODAY</td>\n",
              "      <td>MISLEADING</td>\n",
              "      <td>Fake</td>\n",
              "    </tr>\n",
              "  </tbody>\n",
              "</table>\n",
              "<p>56714 rows × 4 columns</p>\n",
              "</div>"
            ],
            "text/plain": [
              "                                               Statement         Web  \\\n",
              "0      WHO praises India's Aarogya Setu app, says it ...    DNAINDIA   \n",
              "1      In Delhi, Deputy US Secretary of State Stephen...    DNAINDIA   \n",
              "2      LAC tensions: China's strategy behind delibera...    DNAINDIA   \n",
              "3      India has signed 250 documents on Space cooper...    DNAINDIA   \n",
              "4      Tamil Nadu chief minister's mother passes away...    DNAINDIA   \n",
              "...                                                  ...         ...   \n",
              "56709  Fact Check: This is not Bruce Lee playing ping...  INDIATODAY   \n",
              "56710  Fact Check: Did Japan construct this bridge in...  INDIATODAY   \n",
              "56711  Fact Check: Viral video of Mexico earthquake i...  INDIATODAY   \n",
              "56712  Fact Check: Ballet performance by Chinese coup...  INDIATODAY   \n",
              "56713  Fact Check: Is this little boy crossing into J...  INDIATODAY   \n",
              "\n",
              "         Category Label  \n",
              "0        COVID-19  TRUE  \n",
              "1        VIOLENCE  TRUE  \n",
              "2          TERROR  TRUE  \n",
              "3        COVID-19  TRUE  \n",
              "4        ELECTION  TRUE  \n",
              "...           ...   ...  \n",
              "56709  MISLEADING  Fake  \n",
              "56710    COVID-19  Fake  \n",
              "56711  MISLEADING  Fake  \n",
              "56712    COVID-19  Fake  \n",
              "56713  MISLEADING  Fake  \n",
              "\n",
              "[56714 rows x 4 columns]"
            ]
          },
          "execution_count": 8,
          "metadata": {},
          "output_type": "execute_result"
        }
      ],
      "source": [
        "data\n"
      ]
    },
    {
      "attachments": {},
      "cell_type": "markdown",
      "metadata": {
        "id": "jHYEgLUdlUA8"
      },
      "source": [
        "DATA PROCESSING :\n",
        "\n",
        "1.  Make text lowercase\n",
        "2.  Remove punctuation\n",
        "3.  Remove emoji’s\n",
        "4.  Remove stopwords\n",
        "5.  Lemmatization\n"
      ]
    },
    {
      "cell_type": "code",
      "execution_count": 9,
      "metadata": {
        "id": "2I_wAnwAlTUX"
      },
      "outputs": [],
      "source": [
        "nlp = spacy.load(\"en_core_web_sm\", disable=[\"parser\", \"ner\"])\n"
      ]
    },
    {
      "cell_type": "code",
      "execution_count": 10,
      "metadata": {
        "colab": {
          "base_uri": "https://localhost:8080/"
        },
        "id": "4lNJE76imVqb",
        "outputId": "867e8ea4-8338-4542-f28f-e07990df8044"
      },
      "outputs": [
        {
          "name": "stderr",
          "output_type": "stream",
          "text": [
            "C:\\Users\\USER\\AppData\\Local\\Temp\\ipykernel_13764\\4196057037.py:3: FutureWarning: The default value of regex will change from True to False in a future version.\n",
            "  data['new_Statement'] = data['Statement'].apply(lambda x: \" \".join(x.lower() for x in x.split())).str.replace('[^\\w\\s]','')\n"
          ]
        },
        {
          "data": {
            "text/plain": [
              "(56714,)"
            ]
          },
          "execution_count": 10,
          "metadata": {},
          "output_type": "execute_result"
        }
      ],
      "source": [
        "############## Converting statements into lowercase ##############\n",
        "########## To remove punctuation #######\n",
        "data['new_Statement'] = data['Statement'].apply(lambda x: \" \".join(\n",
        "    x.lower() for x in x.split())).str.replace('[^\\w\\s]', '')\n",
        "data['new_Statement'].shape\n"
      ]
    },
    {
      "cell_type": "code",
      "execution_count": 11,
      "metadata": {
        "colab": {
          "base_uri": "https://localhost:8080/"
        },
        "id": "FO7V_cs9mViG",
        "outputId": "21a73fd8-56e8-4fc9-ad14-8ddef7a26901"
      },
      "outputs": [
        {
          "data": {
            "text/plain": [
              "0        who praises indias aarogya setu app says it he...\n",
              "1        in delhi deputy us secretary of state stephen ...\n",
              "2        lac tensions chinas strategy behind deliberate...\n",
              "3        india has signed 250 documents on space cooper...\n",
              "4        tamil nadu chief ministers mother passes away ...\n",
              "                               ...                        \n",
              "56709    fact check this is not bruce lee playing pingp...\n",
              "56710    fact check did japan construct this bridge in ...\n",
              "56711    fact check viral video of mexico earthquake is...\n",
              "56712    fact check ballet performance by chinese coupl...\n",
              "56713    fact check is this little boy crossing into jo...\n",
              "Name: new_Statement, Length: 56714, dtype: object"
            ]
          },
          "execution_count": 11,
          "metadata": {},
          "output_type": "execute_result"
        }
      ],
      "source": [
        "################## REMOVING EMOJIS####################\n",
        "def remove_emoji(text):\n",
        "    emoji_pattern = re.compile(\"[\"\n",
        "                               u\"\\U0001F600-\\U0001F64F\"  # emoticons\n",
        "                               u\"\\U0001F300-\\U0001F5FF\"  # symbols & pictographs\n",
        "                               u\"\\U0001F680-\\U0001F6FF\"  # transport & map symbols\n",
        "                               u\"\\U0001F1E0-\\U0001F1FF\"  # flags\n",
        "                               u\"\\U00002702-\\U000027B0\"\n",
        "                               u\"\\U000024C2-\\U0001F251\"\n",
        "                               \"]+\", flags=re.UNICODE)\n",
        "    return emoji_pattern.sub(r'', text)\n",
        "\n",
        "\n",
        "data['new_Statement'] = data['new_Statement'].apply(lambda x: remove_emoji(x))\n",
        "data['new_Statement']\n"
      ]
    },
    {
      "cell_type": "code",
      "execution_count": 12,
      "metadata": {
        "colab": {
          "base_uri": "https://localhost:8080/"
        },
        "id": "VtzQq3MEmVR-",
        "outputId": "fc7313e3-3305-4050-e7b0-91092c943260"
      },
      "outputs": [
        {
          "name": "stderr",
          "output_type": "stream",
          "text": [
            "[nltk_data] Downloading package stopwords to\n",
            "[nltk_data]     C:\\Users\\USER\\AppData\\Roaming\\nltk_data...\n",
            "[nltk_data]   Package stopwords is already up-to-date!\n"
          ]
        },
        {
          "data": {
            "text/plain": [
              "(56714,)"
            ]
          },
          "execution_count": 12,
          "metadata": {},
          "output_type": "execute_result"
        }
      ],
      "source": [
        "################### REMOVING STOP WORDS###################\n",
        "import nltk\n",
        "nltk.download('stopwords')\n",
        "stop = set(stopwords.words('english'))\n",
        "data['new_Statement'] = data['new_Statement'].apply(\n",
        "    lambda x: \" \".join(x for x in x.split() if x not in stop))\n",
        "data['new_Statement'].shape\n"
      ]
    },
    {
      "cell_type": "code",
      "execution_count": 13,
      "metadata": {
        "colab": {
          "base_uri": "https://localhost:8080/"
        },
        "id": "Rn1wS05JmVOb",
        "outputId": "601e531e-a16c-4ac8-b809-e3c3638ff2ee"
      },
      "outputs": [
        {
          "data": {
            "text/plain": [
              "0    praise indias aarogya setu app say help identi...\n",
              "1    delhi deputy us secretary state stephen biegun...\n",
              "2    lac tension china strategy behind deliberately...\n",
              "3    india sign 250 document space cooperation 59 c...\n",
              "4        tamil nadu chief minister mother pass away 93\n",
              "Name: new_Statement, dtype: object"
            ]
          },
          "execution_count": 13,
          "metadata": {},
          "output_type": "execute_result"
        }
      ],
      "source": [
        "############### lemmatization using Spacy so that we can count the appearance of each word. Lemmatization removes the grammar tense and transforms each word into its original form. #######\n",
        "def space(comment):\n",
        "    doc = nlp(comment)\n",
        "    return \" \".join([token.lemma_ for token in doc])\n",
        "\n",
        "\n",
        "data['new_Statement'] = data['new_Statement'].apply(space)\n",
        "data['new_Statement'].head()\n"
      ]
    },
    {
      "cell_type": "code",
      "execution_count": 14,
      "metadata": {
        "colab": {
          "base_uri": "https://localhost:8080/",
          "height": 337
        },
        "id": "pF2zpZPNmVKU",
        "outputId": "2f63da48-81d1-4d12-b49e-914de8e977df"
      },
      "outputs": [
        {
          "data": {
            "text/html": [
              "<div>\n",
              "<style scoped>\n",
              "    .dataframe tbody tr th:only-of-type {\n",
              "        vertical-align: middle;\n",
              "    }\n",
              "\n",
              "    .dataframe tbody tr th {\n",
              "        vertical-align: top;\n",
              "    }\n",
              "\n",
              "    .dataframe thead th {\n",
              "        text-align: right;\n",
              "    }\n",
              "</style>\n",
              "<table border=\"1\" class=\"dataframe\">\n",
              "  <thead>\n",
              "    <tr style=\"text-align: right;\">\n",
              "      <th></th>\n",
              "      <th>Statement</th>\n",
              "      <th>Web</th>\n",
              "      <th>Category</th>\n",
              "      <th>Label</th>\n",
              "      <th>new_Statement</th>\n",
              "    </tr>\n",
              "  </thead>\n",
              "  <tbody>\n",
              "    <tr>\n",
              "      <th>0</th>\n",
              "      <td>WHO praises India's Aarogya Setu app, says it ...</td>\n",
              "      <td>DNAINDIA</td>\n",
              "      <td>COVID-19</td>\n",
              "      <td>TRUE</td>\n",
              "      <td>praise indias aarogya setu app say help identi...</td>\n",
              "    </tr>\n",
              "    <tr>\n",
              "      <th>1</th>\n",
              "      <td>In Delhi, Deputy US Secretary of State Stephen...</td>\n",
              "      <td>DNAINDIA</td>\n",
              "      <td>VIOLENCE</td>\n",
              "      <td>TRUE</td>\n",
              "      <td>delhi deputy us secretary state stephen biegun...</td>\n",
              "    </tr>\n",
              "    <tr>\n",
              "      <th>2</th>\n",
              "      <td>LAC tensions: China's strategy behind delibera...</td>\n",
              "      <td>DNAINDIA</td>\n",
              "      <td>TERROR</td>\n",
              "      <td>TRUE</td>\n",
              "      <td>lac tension china strategy behind deliberately...</td>\n",
              "    </tr>\n",
              "    <tr>\n",
              "      <th>3</th>\n",
              "      <td>India has signed 250 documents on Space cooper...</td>\n",
              "      <td>DNAINDIA</td>\n",
              "      <td>COVID-19</td>\n",
              "      <td>TRUE</td>\n",
              "      <td>india sign 250 document space cooperation 59 c...</td>\n",
              "    </tr>\n",
              "    <tr>\n",
              "      <th>4</th>\n",
              "      <td>Tamil Nadu chief minister's mother passes away...</td>\n",
              "      <td>DNAINDIA</td>\n",
              "      <td>ELECTION</td>\n",
              "      <td>TRUE</td>\n",
              "      <td>tamil nadu chief minister mother pass away 93</td>\n",
              "    </tr>\n",
              "  </tbody>\n",
              "</table>\n",
              "</div>"
            ],
            "text/plain": [
              "                                           Statement       Web  Category  \\\n",
              "0  WHO praises India's Aarogya Setu app, says it ...  DNAINDIA  COVID-19   \n",
              "1  In Delhi, Deputy US Secretary of State Stephen...  DNAINDIA  VIOLENCE   \n",
              "2  LAC tensions: China's strategy behind delibera...  DNAINDIA    TERROR   \n",
              "3  India has signed 250 documents on Space cooper...  DNAINDIA  COVID-19   \n",
              "4  Tamil Nadu chief minister's mother passes away...  DNAINDIA  ELECTION   \n",
              "\n",
              "  Label                                      new_Statement  \n",
              "0  TRUE  praise indias aarogya setu app say help identi...  \n",
              "1  TRUE  delhi deputy us secretary state stephen biegun...  \n",
              "2  TRUE  lac tension china strategy behind deliberately...  \n",
              "3  TRUE  india sign 250 document space cooperation 59 c...  \n",
              "4  TRUE      tamil nadu chief minister mother pass away 93  "
            ]
          },
          "execution_count": 14,
          "metadata": {},
          "output_type": "execute_result"
        }
      ],
      "source": [
        "data.head()\n"
      ]
    },
    {
      "cell_type": "code",
      "execution_count": 15,
      "metadata": {
        "colab": {
          "base_uri": "https://localhost:8080/"
        },
        "id": "suZql9EFmVGB",
        "outputId": "60357a20-dfb0-455f-c9b3-6813cd837a47"
      },
      "outputs": [
        {
          "name": "stdout",
          "output_type": "stream",
          "text": [
            "['Fake' 'Fake' 'TRUE' ... 'TRUE' 'TRUE' 'Fake']\n",
            "['TRUE' 'Fake' 'Fake' ... 'TRUE' 'TRUE' 'Fake']\n",
            "(39699, 2) (39699,)\n",
            "(17015, 2) (17015,)\n"
          ]
        }
      ],
      "source": [
        "from sklearn.model_selection import train_test_split as tts\n",
        "X = data[['new_Statement', 'Category']].values\n",
        "y = data['Label'].values\n",
        "X_train, X_test, Y_train, Y_test = tts(X, y, test_size=0.3)\n",
        "print(Y_train)\n",
        "print(Y_test)\n",
        "# print(Y_train.groupby('Label').count())\n",
        "# print(Y_test.groupby(level = 0 ).count())\n",
        "print(X_train.shape, Y_train.shape)\n",
        "print(X_test.shape, Y_test.shape)\n"
      ]
    },
    {
      "cell_type": "code",
      "execution_count": 19,
      "metadata": {
        "id": "QCGzqmgsvEZi"
      },
      "outputs": [
        {
          "name": "stdout",
          "output_type": "stream",
          "text": [
            "28912    feel like I m rape say karnataka speaker mlas ...\n",
            "45082     fact check bjp man torture youth lockdown hereõs\n",
            "30233                first time lpg sell petrol india 2020\n",
            "47539    man force say camera childkidnapper video use ...\n",
            "37155    edelweiss fund still bullish indiaï½s runaway ...\n",
            "                               ...                        \n",
            "54343    fact check picture hizbul commander zakir musa...\n",
            "38158         fact check viral photo flood bihar australia\n",
            "860      sushant singh rajput case ûuddhav never interf...\n",
            "15795    11 migrant way home die 14 other injure separa...\n",
            "56422              donï½t believe picture pm modi take dip\n",
            "Name: new_Statement, Length: 45371, dtype: object 25353    man phone what s like make history high auctio...\n",
            "4091     pm states start plan vaccine rollout maintain ...\n",
            "28346    du survey show akhileshmaya popular modi priya...\n",
            "16648    register first case anticonversion law bareill...\n",
            "41227    fact check old video statue ganesha immerse ri...\n",
            "                               ...                        \n",
            "43349    fact check viral photo social distancing reall...\n",
            "17155     badrinath temple close winter chardham yatra end\n",
            "30227    indias mediumterm growth slow around 65 initia...\n",
            "28575    will not fund nyay scheme money middle class a...\n",
            "13294    covid death toll breach 400 mark 120 new posit...\n",
            "Name: new_Statement, Length: 11343, dtype: object 28912    TRUE\n",
            "45082    Fake\n",
            "30233    TRUE\n",
            "47539    Fake\n",
            "37155    TRUE\n",
            "         ... \n",
            "54343    Fake\n",
            "38158    Fake\n",
            "860      TRUE\n",
            "15795    TRUE\n",
            "56422    Fake\n",
            "Name: Label, Length: 45371, dtype: object 25353    TRUE\n",
            "4091     TRUE\n",
            "28346    TRUE\n",
            "16648    TRUE\n",
            "41227    Fake\n",
            "         ... \n",
            "43349    Fake\n",
            "17155    TRUE\n",
            "30227    TRUE\n",
            "28575    TRUE\n",
            "13294    TRUE\n",
            "Name: Label, Length: 11343, dtype: object\n"
          ]
        }
      ],
      "source": [
        "import pandas as pd\n",
        "from sklearn.feature_extraction.text import CountVectorizer, TfidfVectorizer\n",
        "from sklearn.model_selection import train_test_split as tts\n",
        "# Preprocess the text data\n",
        "\n",
        "\n",
        "def preprocess(text):\n",
        "    # TODO: Add your preprocessing steps here\n",
        "    return text\n",
        "\n",
        "\n",
        "data['new_Statement'] = data['new_Statement'].apply(preprocess)\n",
        "\n",
        "# Split the dataset into training and testing sets\n",
        "X_train, X_test, Y_train, Y_test = tts(\n",
        "    data['new_Statement'], data['Label'], test_size=0.2, random_state=42)\n",
        "\n",
        "# Bag-of-words feature extraction\n",
        "count_vectorizer = CountVectorizer(stop_words='english')\n",
        "X_train_count = count_vectorizer.fit_transform(X_train)\n",
        "X_test_count = count_vectorizer.transform(X_test)\n",
        "\n",
        "# Tfidf feature extraction\n",
        "tfidf_vectorizer = TfidfVectorizer(stop_words='english')\n",
        "X_train_tfidf = tfidf_vectorizer.fit_transform(X_train)\n",
        "X_test_tfidf = tfidf_vectorizer.transform(X_test)\n",
        "\n",
        "# Print the shape of the feature matrices\n",
        "print(X_train, X_test, Y_train, Y_test)\n",
        "# print('CountVectorizer:', X_train_count.shape, X_test_count.shape)\n",
        "# print('TfidfVectorizer:', X_train_tfidf.shape, X_test_tfidf.shape)\n"
      ]
    },
    {
      "cell_type": "code",
      "execution_count": 20,
      "metadata": {
        "id": "wR9Dvd2nmVBk"
      },
      "outputs": [
        {
          "ename": "MemoryError",
          "evalue": "Unable to allocate 11.2 GiB for an array with shape (45371, 33051) and data type float64",
          "output_type": "error",
          "traceback": [
            "\u001b[1;31m---------------------------------------------------------------------------\u001b[0m",
            "\u001b[1;31mMemoryError\u001b[0m                               Traceback (most recent call last)",
            "Cell \u001b[1;32mIn[20], line 6\u001b[0m\n\u001b[0;32m      4\u001b[0m \u001b[39m# Perform PCA on the count feature matrix\u001b[39;00m\n\u001b[0;32m      5\u001b[0m pca \u001b[39m=\u001b[39m PCA(n_components\u001b[39m=\u001b[39m\u001b[39m2\u001b[39m)\n\u001b[1;32m----> 6\u001b[0m X_train_count_pca \u001b[39m=\u001b[39m pca\u001b[39m.\u001b[39;49mfit_transform(X_train_count\u001b[39m.\u001b[39;49mtoarray())\n\u001b[0;32m      8\u001b[0m \u001b[39m# Plot the PCA results\u001b[39;00m\n\u001b[0;32m      9\u001b[0m plt\u001b[39m.\u001b[39mscatter(X_train_count_pca[:, \u001b[39m0\u001b[39m], X_train_count_pca[:, \u001b[39m1\u001b[39m], c\u001b[39m=\u001b[39mY_train)\n",
            "File \u001b[1;32mc:\\Python311\\Lib\\site-packages\\sklearn\\utils\\_set_output.py:140\u001b[0m, in \u001b[0;36m_wrap_method_output.<locals>.wrapped\u001b[1;34m(self, X, *args, **kwargs)\u001b[0m\n\u001b[0;32m    138\u001b[0m \u001b[39m@wraps\u001b[39m(f)\n\u001b[0;32m    139\u001b[0m \u001b[39mdef\u001b[39;00m \u001b[39mwrapped\u001b[39m(\u001b[39mself\u001b[39m, X, \u001b[39m*\u001b[39margs, \u001b[39m*\u001b[39m\u001b[39m*\u001b[39mkwargs):\n\u001b[1;32m--> 140\u001b[0m     data_to_wrap \u001b[39m=\u001b[39m f(\u001b[39mself\u001b[39;49m, X, \u001b[39m*\u001b[39;49margs, \u001b[39m*\u001b[39;49m\u001b[39m*\u001b[39;49mkwargs)\n\u001b[0;32m    141\u001b[0m     \u001b[39mif\u001b[39;00m \u001b[39misinstance\u001b[39m(data_to_wrap, \u001b[39mtuple\u001b[39m):\n\u001b[0;32m    142\u001b[0m         \u001b[39m# only wrap the first output for cross decomposition\u001b[39;00m\n\u001b[0;32m    143\u001b[0m         \u001b[39mreturn\u001b[39;00m (\n\u001b[0;32m    144\u001b[0m             _wrap_data_with_container(method, data_to_wrap[\u001b[39m0\u001b[39m], X, \u001b[39mself\u001b[39m),\n\u001b[0;32m    145\u001b[0m             \u001b[39m*\u001b[39mdata_to_wrap[\u001b[39m1\u001b[39m:],\n\u001b[0;32m    146\u001b[0m         )\n",
            "File \u001b[1;32mc:\\Python311\\Lib\\site-packages\\sklearn\\decomposition\\_pca.py:462\u001b[0m, in \u001b[0;36mPCA.fit_transform\u001b[1;34m(self, X, y)\u001b[0m\n\u001b[0;32m    439\u001b[0m \u001b[39m\u001b[39m\u001b[39m\"\"\"Fit the model with X and apply the dimensionality reduction on X.\u001b[39;00m\n\u001b[0;32m    440\u001b[0m \n\u001b[0;32m    441\u001b[0m \u001b[39mParameters\u001b[39;00m\n\u001b[1;32m   (...)\u001b[0m\n\u001b[0;32m    458\u001b[0m \u001b[39mC-ordered array, use 'np.ascontiguousarray'.\u001b[39;00m\n\u001b[0;32m    459\u001b[0m \u001b[39m\"\"\"\u001b[39;00m\n\u001b[0;32m    460\u001b[0m \u001b[39mself\u001b[39m\u001b[39m.\u001b[39m_validate_params()\n\u001b[1;32m--> 462\u001b[0m U, S, Vt \u001b[39m=\u001b[39m \u001b[39mself\u001b[39;49m\u001b[39m.\u001b[39;49m_fit(X)\n\u001b[0;32m    463\u001b[0m U \u001b[39m=\u001b[39m U[:, : \u001b[39mself\u001b[39m\u001b[39m.\u001b[39mn_components_]\n\u001b[0;32m    465\u001b[0m \u001b[39mif\u001b[39;00m \u001b[39mself\u001b[39m\u001b[39m.\u001b[39mwhiten:\n\u001b[0;32m    466\u001b[0m     \u001b[39m# X_new = X * V / S * sqrt(n_samples) = U * sqrt(n_samples)\u001b[39;00m\n",
            "File \u001b[1;32mc:\\Python311\\Lib\\site-packages\\sklearn\\decomposition\\_pca.py:485\u001b[0m, in \u001b[0;36mPCA._fit\u001b[1;34m(self, X)\u001b[0m\n\u001b[0;32m    479\u001b[0m \u001b[39mif\u001b[39;00m issparse(X):\n\u001b[0;32m    480\u001b[0m     \u001b[39mraise\u001b[39;00m \u001b[39mTypeError\u001b[39;00m(\n\u001b[0;32m    481\u001b[0m         \u001b[39m\"\u001b[39m\u001b[39mPCA does not support sparse input. See \u001b[39m\u001b[39m\"\u001b[39m\n\u001b[0;32m    482\u001b[0m         \u001b[39m\"\u001b[39m\u001b[39mTruncatedSVD for a possible alternative.\u001b[39m\u001b[39m\"\u001b[39m\n\u001b[0;32m    483\u001b[0m     )\n\u001b[1;32m--> 485\u001b[0m X \u001b[39m=\u001b[39m \u001b[39mself\u001b[39;49m\u001b[39m.\u001b[39;49m_validate_data(\n\u001b[0;32m    486\u001b[0m     X, dtype\u001b[39m=\u001b[39;49m[np\u001b[39m.\u001b[39;49mfloat64, np\u001b[39m.\u001b[39;49mfloat32], ensure_2d\u001b[39m=\u001b[39;49m\u001b[39mTrue\u001b[39;49;00m, copy\u001b[39m=\u001b[39;49m\u001b[39mself\u001b[39;49m\u001b[39m.\u001b[39;49mcopy\n\u001b[0;32m    487\u001b[0m )\n\u001b[0;32m    489\u001b[0m \u001b[39m# Handle n_components==None\u001b[39;00m\n\u001b[0;32m    490\u001b[0m \u001b[39mif\u001b[39;00m \u001b[39mself\u001b[39m\u001b[39m.\u001b[39mn_components \u001b[39mis\u001b[39;00m \u001b[39mNone\u001b[39;00m:\n",
            "File \u001b[1;32mc:\\Python311\\Lib\\site-packages\\sklearn\\base.py:565\u001b[0m, in \u001b[0;36mBaseEstimator._validate_data\u001b[1;34m(self, X, y, reset, validate_separately, **check_params)\u001b[0m\n\u001b[0;32m    563\u001b[0m     \u001b[39mraise\u001b[39;00m \u001b[39mValueError\u001b[39;00m(\u001b[39m\"\u001b[39m\u001b[39mValidation should be done on X, y or both.\u001b[39m\u001b[39m\"\u001b[39m)\n\u001b[0;32m    564\u001b[0m \u001b[39melif\u001b[39;00m \u001b[39mnot\u001b[39;00m no_val_X \u001b[39mand\u001b[39;00m no_val_y:\n\u001b[1;32m--> 565\u001b[0m     X \u001b[39m=\u001b[39m check_array(X, input_name\u001b[39m=\u001b[39;49m\u001b[39m\"\u001b[39;49m\u001b[39mX\u001b[39;49m\u001b[39m\"\u001b[39;49m, \u001b[39m*\u001b[39;49m\u001b[39m*\u001b[39;49mcheck_params)\n\u001b[0;32m    566\u001b[0m     out \u001b[39m=\u001b[39m X\n\u001b[0;32m    567\u001b[0m \u001b[39melif\u001b[39;00m no_val_X \u001b[39mand\u001b[39;00m \u001b[39mnot\u001b[39;00m no_val_y:\n",
            "File \u001b[1;32mc:\\Python311\\Lib\\site-packages\\sklearn\\utils\\validation.py:879\u001b[0m, in \u001b[0;36mcheck_array\u001b[1;34m(array, accept_sparse, accept_large_sparse, dtype, order, copy, force_all_finite, ensure_2d, allow_nd, ensure_min_samples, ensure_min_features, estimator, input_name)\u001b[0m\n\u001b[0;32m    877\u001b[0m         array \u001b[39m=\u001b[39m xp\u001b[39m.\u001b[39mastype(array, dtype, copy\u001b[39m=\u001b[39m\u001b[39mFalse\u001b[39;00m)\n\u001b[0;32m    878\u001b[0m     \u001b[39melse\u001b[39;00m:\n\u001b[1;32m--> 879\u001b[0m         array \u001b[39m=\u001b[39m _asarray_with_order(array, order\u001b[39m=\u001b[39;49morder, dtype\u001b[39m=\u001b[39;49mdtype, xp\u001b[39m=\u001b[39;49mxp)\n\u001b[0;32m    880\u001b[0m \u001b[39mexcept\u001b[39;00m ComplexWarning \u001b[39mas\u001b[39;00m complex_warning:\n\u001b[0;32m    881\u001b[0m     \u001b[39mraise\u001b[39;00m \u001b[39mValueError\u001b[39;00m(\n\u001b[0;32m    882\u001b[0m         \u001b[39m\"\u001b[39m\u001b[39mComplex data not supported\u001b[39m\u001b[39m\\n\u001b[39;00m\u001b[39m{}\u001b[39;00m\u001b[39m\\n\u001b[39;00m\u001b[39m\"\u001b[39m\u001b[39m.\u001b[39mformat(array)\n\u001b[0;32m    883\u001b[0m     ) \u001b[39mfrom\u001b[39;00m \u001b[39mcomplex_warning\u001b[39;00m\n",
            "File \u001b[1;32mc:\\Python311\\Lib\\site-packages\\sklearn\\utils\\_array_api.py:185\u001b[0m, in \u001b[0;36m_asarray_with_order\u001b[1;34m(array, dtype, order, copy, xp)\u001b[0m\n\u001b[0;32m    182\u001b[0m     xp, _ \u001b[39m=\u001b[39m get_namespace(array)\n\u001b[0;32m    183\u001b[0m \u001b[39mif\u001b[39;00m xp\u001b[39m.\u001b[39m\u001b[39m__name__\u001b[39m \u001b[39min\u001b[39;00m {\u001b[39m\"\u001b[39m\u001b[39mnumpy\u001b[39m\u001b[39m\"\u001b[39m, \u001b[39m\"\u001b[39m\u001b[39mnumpy.array_api\u001b[39m\u001b[39m\"\u001b[39m}:\n\u001b[0;32m    184\u001b[0m     \u001b[39m# Use NumPy API to support order\u001b[39;00m\n\u001b[1;32m--> 185\u001b[0m     array \u001b[39m=\u001b[39m numpy\u001b[39m.\u001b[39;49masarray(array, order\u001b[39m=\u001b[39;49morder, dtype\u001b[39m=\u001b[39;49mdtype)\n\u001b[0;32m    186\u001b[0m     \u001b[39mreturn\u001b[39;00m xp\u001b[39m.\u001b[39masarray(array, copy\u001b[39m=\u001b[39mcopy)\n\u001b[0;32m    187\u001b[0m \u001b[39melse\u001b[39;00m:\n",
            "\u001b[1;31mMemoryError\u001b[0m: Unable to allocate 11.2 GiB for an array with shape (45371, 33051) and data type float64"
          ]
        }
      ],
      "source": [
        "# import matplotlib.pyplot as plt\n",
        "# from sklearn.decomposition import PCA\n",
        "\n",
        "# # Perform PCA on the count feature matrix\n",
        "# pca = PCA(n_components=2)\n",
        "# X_train_count_pca = pca.fit_transform(X_train_count.toarray())\n",
        "\n",
        "# # Plot the PCA results\n",
        "# plt.scatter(X_train_count_pca[:, 0], X_train_count_pca[:, 1], c=Y_train)\n",
        "# plt.title('PCA on CountVectorizer Feature Matrix')\n",
        "# plt.xlabel('Principal Component 1')\n",
        "# plt.ylabel('Principal Component 2')\n",
        "# plt.show()\n",
        "\n",
        "# # Perform PCA on the tfidf feature matrix\n",
        "# pca = PCA(n_components=2)\n",
        "# X_train_tfidf_pca = pca.fit_transform(X_train_tfidf.toarray())\n",
        "\n",
        "# # Plot the PCA results\n",
        "# plt.scatter(X_train_tfidf_pca[:, 0], X_train_tfidf_pca[:, 1], c=Y_train)\n",
        "# plt.title('PCA on TfidfVectorizer Feature Matrix')\n",
        "# plt.xlabel('Principal Component 1')\n",
        "# plt.ylabel('Principal Component 2')\n",
        "# plt.show()\n"
      ]
    },
    {
      "cell_type": "code",
      "execution_count": null,
      "metadata": {
        "id": "k7jxeQSnmU9i"
      },
      "outputs": [],
      "source": []
    },
    {
      "cell_type": "code",
      "execution_count": null,
      "metadata": {
        "colab": {
          "base_uri": "https://localhost:8080/",
          "height": 1000
        },
        "id": "4o8Meq8JMrkC",
        "outputId": "9737db41-c4fa-4496-94f5-dc4ef9ad8bde"
      },
      "outputs": [
        {
          "data": {
            "text/html": [
              "\n",
              "  <div id=\"df-8c20a484-82a8-4c5c-a83f-59d1e9c297d6\">\n",
              "    <div class=\"colab-df-container\">\n",
              "      <div>\n",
              "<style scoped>\n",
              "    .dataframe tbody tr th:only-of-type {\n",
              "        vertical-align: middle;\n",
              "    }\n",
              "\n",
              "    .dataframe tbody tr th {\n",
              "        vertical-align: top;\n",
              "    }\n",
              "\n",
              "    .dataframe thead th {\n",
              "        text-align: right;\n",
              "    }\n",
              "</style>\n",
              "<table border=\"1\" class=\"dataframe\">\n",
              "  <thead>\n",
              "    <tr style=\"text-align: right;\">\n",
              "      <th></th>\n",
              "      <th></th>\n",
              "      <th>Statement</th>\n",
              "      <th>Category</th>\n",
              "      <th>new_Statement</th>\n",
              "    </tr>\n",
              "    <tr>\n",
              "      <th>Label</th>\n",
              "      <th>Web</th>\n",
              "      <th></th>\n",
              "      <th></th>\n",
              "      <th></th>\n",
              "    </tr>\n",
              "  </thead>\n",
              "  <tbody>\n",
              "    <tr>\n",
              "      <th rowspan=\"15\" valign=\"top\">Fake</th>\n",
              "      <th>AFP</th>\n",
              "      <td>267</td>\n",
              "      <td>267</td>\n",
              "      <td>267</td>\n",
              "    </tr>\n",
              "    <tr>\n",
              "      <th>ALT</th>\n",
              "      <td>59</td>\n",
              "      <td>59</td>\n",
              "      <td>59</td>\n",
              "    </tr>\n",
              "    <tr>\n",
              "      <th>AUGMENT</th>\n",
              "      <td>11321</td>\n",
              "      <td>11321</td>\n",
              "      <td>11321</td>\n",
              "    </tr>\n",
              "    <tr>\n",
              "      <th>BOOMLIVE</th>\n",
              "      <td>806</td>\n",
              "      <td>806</td>\n",
              "      <td>806</td>\n",
              "    </tr>\n",
              "    <tr>\n",
              "      <th>DIGITEYE</th>\n",
              "      <td>175</td>\n",
              "      <td>175</td>\n",
              "      <td>175</td>\n",
              "    </tr>\n",
              "    <tr>\n",
              "      <th>FACTCHECKER</th>\n",
              "      <td>163</td>\n",
              "      <td>163</td>\n",
              "      <td>163</td>\n",
              "    </tr>\n",
              "    <tr>\n",
              "      <th>FACTCRESCENDO</th>\n",
              "      <td>272</td>\n",
              "      <td>272</td>\n",
              "      <td>272</td>\n",
              "    </tr>\n",
              "    <tr>\n",
              "      <th>INDIATODAY</th>\n",
              "      <td>1606</td>\n",
              "      <td>1606</td>\n",
              "      <td>1606</td>\n",
              "    </tr>\n",
              "    <tr>\n",
              "      <th>NEWSMETER</th>\n",
              "      <td>506</td>\n",
              "      <td>506</td>\n",
              "      <td>506</td>\n",
              "    </tr>\n",
              "    <tr>\n",
              "      <th>NEWSMOBILE</th>\n",
              "      <td>2190</td>\n",
              "      <td>2190</td>\n",
              "      <td>2190</td>\n",
              "    </tr>\n",
              "    <tr>\n",
              "      <th>ONEINDIA</th>\n",
              "      <td>549</td>\n",
              "      <td>549</td>\n",
              "      <td>549</td>\n",
              "    </tr>\n",
              "    <tr>\n",
              "      <th>TEEKHIMIRCHI</th>\n",
              "      <td>262</td>\n",
              "      <td>262</td>\n",
              "      <td>262</td>\n",
              "    </tr>\n",
              "    <tr>\n",
              "      <th>THELOGICALINDIA</th>\n",
              "      <td>173</td>\n",
              "      <td>173</td>\n",
              "      <td>173</td>\n",
              "    </tr>\n",
              "    <tr>\n",
              "      <th>THELOGICALINDIAN</th>\n",
              "      <td>221</td>\n",
              "      <td>221</td>\n",
              "      <td>221</td>\n",
              "    </tr>\n",
              "    <tr>\n",
              "      <th>THEPRINT</th>\n",
              "      <td>344</td>\n",
              "      <td>344</td>\n",
              "      <td>344</td>\n",
              "    </tr>\n",
              "    <tr>\n",
              "      <th rowspan=\"19\" valign=\"top\">TRUE</th>\n",
              "      <th>BSMEDIA</th>\n",
              "      <td>449</td>\n",
              "      <td>449</td>\n",
              "      <td>449</td>\n",
              "    </tr>\n",
              "    <tr>\n",
              "      <th>CNN</th>\n",
              "      <td>778</td>\n",
              "      <td>778</td>\n",
              "      <td>778</td>\n",
              "    </tr>\n",
              "    <tr>\n",
              "      <th>DAPAAN</th>\n",
              "      <td>136</td>\n",
              "      <td>136</td>\n",
              "      <td>136</td>\n",
              "    </tr>\n",
              "    <tr>\n",
              "      <th>DNAINDIA</th>\n",
              "      <td>121</td>\n",
              "      <td>121</td>\n",
              "      <td>121</td>\n",
              "    </tr>\n",
              "    <tr>\n",
              "      <th>ENGLISHTRIBUNE</th>\n",
              "      <td>21</td>\n",
              "      <td>21</td>\n",
              "      <td>21</td>\n",
              "    </tr>\n",
              "    <tr>\n",
              "      <th>FACTLY</th>\n",
              "      <td>174</td>\n",
              "      <td>174</td>\n",
              "      <td>174</td>\n",
              "    </tr>\n",
              "    <tr>\n",
              "      <th>INDIANEXPRESS</th>\n",
              "      <td>3983</td>\n",
              "      <td>3983</td>\n",
              "      <td>3983</td>\n",
              "    </tr>\n",
              "    <tr>\n",
              "      <th>INDIATODAY</th>\n",
              "      <td>92</td>\n",
              "      <td>92</td>\n",
              "      <td>92</td>\n",
              "    </tr>\n",
              "    <tr>\n",
              "      <th>INDUSTANTIMES</th>\n",
              "      <td>15</td>\n",
              "      <td>15</td>\n",
              "      <td>15</td>\n",
              "    </tr>\n",
              "    <tr>\n",
              "      <th>NDTV</th>\n",
              "      <td>8</td>\n",
              "      <td>8</td>\n",
              "      <td>8</td>\n",
              "    </tr>\n",
              "    <tr>\n",
              "      <th>NEWSMETER</th>\n",
              "      <td>66</td>\n",
              "      <td>66</td>\n",
              "      <td>66</td>\n",
              "    </tr>\n",
              "    <tr>\n",
              "      <th>NEWSMOBILE</th>\n",
              "      <td>232</td>\n",
              "      <td>232</td>\n",
              "      <td>232</td>\n",
              "    </tr>\n",
              "    <tr>\n",
              "      <th>TEEKHIMIRCHI</th>\n",
              "      <td>125</td>\n",
              "      <td>125</td>\n",
              "      <td>125</td>\n",
              "    </tr>\n",
              "    <tr>\n",
              "      <th>THEPRINT</th>\n",
              "      <td>8238</td>\n",
              "      <td>8238</td>\n",
              "      <td>8238</td>\n",
              "    </tr>\n",
              "    <tr>\n",
              "      <th>THESTATEMAN</th>\n",
              "      <td>4048</td>\n",
              "      <td>4048</td>\n",
              "      <td>4048</td>\n",
              "    </tr>\n",
              "    <tr>\n",
              "      <th>THESTATESMAN</th>\n",
              "      <td>7202</td>\n",
              "      <td>7202</td>\n",
              "      <td>7202</td>\n",
              "    </tr>\n",
              "    <tr>\n",
              "      <th>TIMESNOW</th>\n",
              "      <td>238</td>\n",
              "      <td>238</td>\n",
              "      <td>238</td>\n",
              "    </tr>\n",
              "    <tr>\n",
              "      <th>TRIBUNEINDIA</th>\n",
              "      <td>11832</td>\n",
              "      <td>11832</td>\n",
              "      <td>11832</td>\n",
              "    </tr>\n",
              "    <tr>\n",
              "      <th>WAHSARKAR</th>\n",
              "      <td>42</td>\n",
              "      <td>42</td>\n",
              "      <td>42</td>\n",
              "    </tr>\n",
              "  </tbody>\n",
              "</table>\n",
              "</div>\n",
              "      <button class=\"colab-df-convert\" onclick=\"convertToInteractive('df-8c20a484-82a8-4c5c-a83f-59d1e9c297d6')\"\n",
              "              title=\"Convert this dataframe to an interactive table.\"\n",
              "              style=\"display:none;\">\n",
              "        \n",
              "  <svg xmlns=\"http://www.w3.org/2000/svg\" height=\"24px\"viewBox=\"0 0 24 24\"\n",
              "       width=\"24px\">\n",
              "    <path d=\"M0 0h24v24H0V0z\" fill=\"none\"/>\n",
              "    <path d=\"M18.56 5.44l.94 2.06.94-2.06 2.06-.94-2.06-.94-.94-2.06-.94 2.06-2.06.94zm-11 1L8.5 8.5l.94-2.06 2.06-.94-2.06-.94L8.5 2.5l-.94 2.06-2.06.94zm10 10l.94 2.06.94-2.06 2.06-.94-2.06-.94-.94-2.06-.94 2.06-2.06.94z\"/><path d=\"M17.41 7.96l-1.37-1.37c-.4-.4-.92-.59-1.43-.59-.52 0-1.04.2-1.43.59L10.3 9.45l-7.72 7.72c-.78.78-.78 2.05 0 2.83L4 21.41c.39.39.9.59 1.41.59.51 0 1.02-.2 1.41-.59l7.78-7.78 2.81-2.81c.8-.78.8-2.07 0-2.86zM5.41 20L4 18.59l7.72-7.72 1.47 1.35L5.41 20z\"/>\n",
              "  </svg>\n",
              "      </button>\n",
              "      \n",
              "  <style>\n",
              "    .colab-df-container {\n",
              "      display:flex;\n",
              "      flex-wrap:wrap;\n",
              "      gap: 12px;\n",
              "    }\n",
              "\n",
              "    .colab-df-convert {\n",
              "      background-color: #E8F0FE;\n",
              "      border: none;\n",
              "      border-radius: 50%;\n",
              "      cursor: pointer;\n",
              "      display: none;\n",
              "      fill: #1967D2;\n",
              "      height: 32px;\n",
              "      padding: 0 0 0 0;\n",
              "      width: 32px;\n",
              "    }\n",
              "\n",
              "    .colab-df-convert:hover {\n",
              "      background-color: #E2EBFA;\n",
              "      box-shadow: 0px 1px 2px rgba(60, 64, 67, 0.3), 0px 1px 3px 1px rgba(60, 64, 67, 0.15);\n",
              "      fill: #174EA6;\n",
              "    }\n",
              "\n",
              "    [theme=dark] .colab-df-convert {\n",
              "      background-color: #3B4455;\n",
              "      fill: #D2E3FC;\n",
              "    }\n",
              "\n",
              "    [theme=dark] .colab-df-convert:hover {\n",
              "      background-color: #434B5C;\n",
              "      box-shadow: 0px 1px 3px 1px rgba(0, 0, 0, 0.15);\n",
              "      filter: drop-shadow(0px 1px 2px rgba(0, 0, 0, 0.3));\n",
              "      fill: #FFFFFF;\n",
              "    }\n",
              "  </style>\n",
              "\n",
              "      <script>\n",
              "        const buttonEl =\n",
              "          document.querySelector('#df-8c20a484-82a8-4c5c-a83f-59d1e9c297d6 button.colab-df-convert');\n",
              "        buttonEl.style.display =\n",
              "          google.colab.kernel.accessAllowed ? 'block' : 'none';\n",
              "\n",
              "        async function convertToInteractive(key) {\n",
              "          const element = document.querySelector('#df-8c20a484-82a8-4c5c-a83f-59d1e9c297d6');\n",
              "          const dataTable =\n",
              "            await google.colab.kernel.invokeFunction('convertToInteractive',\n",
              "                                                     [key], {});\n",
              "          if (!dataTable) return;\n",
              "\n",
              "          const docLinkHtml = 'Like what you see? Visit the ' +\n",
              "            '<a target=\"_blank\" href=https://colab.research.google.com/notebooks/data_table.ipynb>data table notebook</a>'\n",
              "            + ' to learn more about interactive tables.';\n",
              "          element.innerHTML = '';\n",
              "          dataTable['output_type'] = 'display_data';\n",
              "          await google.colab.output.renderOutput(dataTable, element);\n",
              "          const docLink = document.createElement('div');\n",
              "          docLink.innerHTML = docLinkHtml;\n",
              "          element.appendChild(docLink);\n",
              "        }\n",
              "      </script>\n",
              "    </div>\n",
              "  </div>\n",
              "  "
            ],
            "text/plain": [
              "                        Statement  Category  new_Statement\n",
              "Label Web                                                 \n",
              "Fake  AFP                     267       267            267\n",
              "      ALT                      59        59             59\n",
              "      AUGMENT               11321     11321          11321\n",
              "      BOOMLIVE                806       806            806\n",
              "      DIGITEYE                175       175            175\n",
              "      FACTCHECKER             163       163            163\n",
              "      FACTCRESCENDO           272       272            272\n",
              "      INDIATODAY             1606      1606           1606\n",
              "      NEWSMETER               506       506            506\n",
              "      NEWSMOBILE             2190      2190           2190\n",
              "      ONEINDIA                549       549            549\n",
              "      TEEKHIMIRCHI            262       262            262\n",
              "      THELOGICALINDIA         173       173            173\n",
              "      THELOGICALINDIAN        221       221            221\n",
              "      THEPRINT                344       344            344\n",
              "TRUE  BSMEDIA                 449       449            449\n",
              "      CNN                     778       778            778\n",
              "      DAPAAN                  136       136            136\n",
              "      DNAINDIA                121       121            121\n",
              "      ENGLISHTRIBUNE           21        21             21\n",
              "      FACTLY                  174       174            174\n",
              "      INDIANEXPRESS          3983      3983           3983\n",
              "      INDIATODAY               92        92             92\n",
              "      INDUSTANTIMES            15        15             15\n",
              "      NDTV                      8         8              8\n",
              "      NEWSMETER                66        66             66\n",
              "      NEWSMOBILE              232       232            232\n",
              "      TEEKHIMIRCHI            125       125            125\n",
              "      THEPRINT               8238      8238           8238\n",
              "      THESTATEMAN            4048      4048           4048\n",
              "      THESTATESMAN           7202      7202           7202\n",
              "      TIMESNOW                238       238            238\n",
              "      TRIBUNEINDIA          11832     11832          11832\n",
              "      WAHSARKAR                42        42             42"
            ]
          },
          "execution_count": 52,
          "metadata": {},
          "output_type": "execute_result"
        }
      ],
      "source": [
        "data.groupby(['Label', 'Web']).count()\n"
      ]
    },
    {
      "attachments": {},
      "cell_type": "markdown",
      "metadata": {
        "id": "aUgj9MH6Rl44"
      },
      "source": [
        "1.  X consists of the independent variables and Y consists of the target variable(Label(True,Fake)).\n",
        "2.  Then we divided the dataset in training and testing data.\n",
        "3.  WE'll trian the model using the training data and after that we'll test it using the testing data\n"
      ]
    },
    {
      "cell_type": "code",
      "execution_count": null,
      "metadata": {
        "colab": {
          "base_uri": "https://localhost:8080/"
        },
        "id": "c2i6xah7NEJa",
        "outputId": "db11d135-272c-4f00-d33a-dc7633075f15"
      },
      "outputs": [
        {
          "name": "stdout",
          "output_type": "stream",
          "text": [
            "15       1\n",
            "16       1\n",
            "17       1\n",
            "18       1\n",
            "19       1\n",
            "        ..\n",
            "56698    1\n",
            "56701    1\n",
            "56703    1\n",
            "56707    1\n",
            "56712    1\n",
            "Name: Label, Length: 17015, dtype: int64\n"
          ]
        }
      ],
      "source": [
        "# This cell does the divison of training and testing data using the train_test_split function\n",
        "from sklearn.model_selection import train_test_split as tts\n",
        "X = data.drop(columns=['Label'])\n",
        "Y = data['Label']\n",
        "X_train, X_test, Y_train, Y_test = tts(X, Y, test_size=0.3)\n",
        "# print(Y_train.groupby('Label').count())\n",
        "print(Y_test.groupby(level=0).count())\n"
      ]
    },
    {
      "cell_type": "code",
      "execution_count": null,
      "metadata": {
        "id": "IzIZelQOPytr"
      },
      "outputs": [],
      "source": []
    }
  ],
  "metadata": {
    "colab": {
      "provenance": []
    },
    "kernelspec": {
      "display_name": "Python 3",
      "language": "python",
      "name": "python3"
    },
    "language_info": {
      "codemirror_mode": {
        "name": "ipython",
        "version": 3
      },
      "file_extension": ".py",
      "mimetype": "text/x-python",
      "name": "python",
      "nbconvert_exporter": "python",
      "pygments_lexer": "ipython3",
      "version": "3.11.1"
    },
    "vscode": {
      "interpreter": {
        "hash": "c261aea317cc0286b3b3261fbba9abdec21eaa57589985bb7a274bf54d6cc0a7"
      }
    }
  },
  "nbformat": 4,
  "nbformat_minor": 0
}
